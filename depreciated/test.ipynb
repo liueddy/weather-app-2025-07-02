{
 "cells": [
  {
   "cell_type": "code",
   "execution_count": 2,
   "metadata": {},
   "outputs": [],
   "source": [
    "import requests\n",
    "import app\n",
    "import fastapi\n",
    "import pydantic\n",
    "import httpx"
   ]
  },
  {
   "cell_type": "code",
   "execution_count": 3,
   "metadata": {},
   "outputs": [],
   "source": [
    "API_KEY = \"51feb6438334e6502cf871203e59a9af\"\n"
   ]
  },
  {
   "cell_type": "code",
   "execution_count": 4,
   "metadata": {},
   "outputs": [],
   "source": [
    "def validate_city(city):\n",
    "    return str(city).strip().replace(\" \",\"+\")\n",
    "\n",
    "def validate_units(units):\n",
    "    u = str(units).strip().lower()\n",
    "    if u == \"metric\" or u == \"imperial\":\n",
    "        return u\n",
    "    else:\n",
    "        return \"standard\"\n",
    "\n",
    "def format_response(rjson,units):\n",
    "    pjson = {}\n",
    "    pjson[\"city\"] = rjson[\"name\"]\n",
    "    pjson[\"country\"] = rjson[\"sys\"][\"country\"]\n",
    "    pjson[\"temperature\"] = rjson[\"main\"][\"temp\"]\n",
    "    pjson[\"real_feel\"] = rjson[\"main\"][\"feels_like\"]\n",
    "    pjson[\"weather\"] = rjson[\"weather\"][0][\"description\"]\n",
    "    pjson[\"wind_spd\"] = rjson[\"wind\"][\"speed\"]\n",
    "    pjson[\"units\"] = units\n",
    "    return pjson\n"
   ]
  },
  {
   "cell_type": "code",
   "execution_count": 5,
   "metadata": {},
   "outputs": [],
   "source": [
    "async def fetchJSON(city, units=\"standard\"):\n",
    "    \"\"\"Validates units, calls API,\n",
    "    and returns a formatted JSON,\n",
    "    if possible, in the format:\n",
    "        {'city': 'Toronto',\n",
    "        'country': 'CA',\n",
    "        'temperature': 25.17,\n",
    "        'real_feel': 25.34,\n",
    "        'weather': 'clear sky',\n",
    "        'wind_spd': 6.71,\n",
    "        'units': 'metric'}\n",
    "    \"\"\"\n",
    "    city = validate_city(city)\n",
    "    units = validate_units(units)\n",
    "\n",
    "    url = f\"https://api.openweathermap.org/data/2.5/weather?q={city}&appid={API_KEY}&units={units}\"\n",
    "    res = requests.get(url)\n",
    "\n",
    "    if res.status_code == 200:\n",
    "        return format_response(res.json(),units)\n",
    "    else:\n",
    "        return res\n"
   ]
  },
  {
   "cell_type": "code",
   "execution_count": 6,
   "metadata": {},
   "outputs": [
    {
     "data": {
      "text/plain": [
       "{'city': 'Saint Paul',\n",
       " 'country': 'US',\n",
       " 'temperature': 300.62,\n",
       " 'real_feel': 301.67,\n",
       " 'weather': 'clear sky',\n",
       " 'wind_spd': 2.57,\n",
       " 'units': 'standard'}"
      ]
     },
     "execution_count": 6,
     "metadata": {},
     "output_type": "execute_result"
    }
   ],
   "source": [
    "await fetchJSON(\"saint paul\",\"dsaopjdsa\")"
   ]
  },
  {
   "cell_type": "code",
   "execution_count": null,
   "metadata": {},
   "outputs": [],
   "source": []
  },
  {
   "cell_type": "code",
   "execution_count": null,
   "metadata": {},
   "outputs": [],
   "source": []
  },
  {
   "cell_type": "code",
   "execution_count": null,
   "metadata": {},
   "outputs": [],
   "source": []
  }
 ],
 "metadata": {
  "kernelspec": {
   "display_name": "Python 3",
   "language": "python",
   "name": "python3"
  },
  "language_info": {
   "codemirror_mode": {
    "name": "ipython",
    "version": 3
   },
   "file_extension": ".py",
   "mimetype": "text/x-python",
   "name": "python",
   "nbconvert_exporter": "python",
   "pygments_lexer": "ipython3",
   "version": "3.12.3"
  }
 },
 "nbformat": 4,
 "nbformat_minor": 2
}
